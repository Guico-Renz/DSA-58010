{
  "nbformat": 4,
  "nbformat_minor": 0,
  "metadata": {
    "colab": {
      "provenance": [],
      "authorship_tag": "ABX9TyP5xxzPHxng13WXQ8NL397v",
      "include_colab_link": true
    },
    "kernelspec": {
      "name": "python3",
      "display_name": "Python 3"
    },
    "language_info": {
      "name": "python"
    }
  },
  "cells": [
    {
      "cell_type": "markdown",
      "metadata": {
        "id": "view-in-github",
        "colab_type": "text"
      },
      "source": [
        "<a href=\"https://colab.research.google.com/github/Guico-Renz/DSA-58010/blob/main/DSA_Act_3_B.ipynb\" target=\"_parent\"><img src=\"https://colab.research.google.com/assets/colab-badge.svg\" alt=\"Open In Colab\"/></a>"
      ]
    },
    {
      "cell_type": "markdown",
      "source": [
        "Write a program that can perform the Caesar cipher for English messages that include both upper and lowercase characters."
      ],
      "metadata": {
        "id": "YvsO6UmpNrB-"
      }
    },
    {
      "cell_type": "code",
      "execution_count": 32,
      "metadata": {
        "colab": {
          "base_uri": "https://localhost:8080/"
        },
        "id": "KtJq5ydIHA4n",
        "outputId": "3199e8b1-9f28-46df-e608-ea7ea0568fa5"
      },
      "outputs": [
        {
          "output_type": "stream",
          "name": "stdout",
          "text": [
            "Enter a text: HELLO WORLD\n",
            "Enter the key: 6\n",
            "Encryption:  NKRRUtCUXRJ\n",
            "Decryption:  HELLOnWORLD\n"
          ]
        }
      ],
      "source": [
        "def encryption(input_text,key):\n",
        "    out = \"\"\n",
        "\n",
        "    #traverse in text\n",
        "    for r in range(len(input_text)):\n",
        "        char = input_text[r]\n",
        "\n",
        "    #    check uppercase\n",
        "        if (char.isupper()):\n",
        "            out += chr((ord(char) + key-65) % 26 + 65)\n",
        "    #        check lowercase\n",
        "        else: \n",
        "            out += chr((ord(char) + key-97) % 26 + 97)\n",
        "  \n",
        "    #return \n",
        "    return out\n",
        "\n",
        "def decryption(input_text,key):\n",
        "    out = \"\"\n",
        "\n",
        "    #traverse in text\n",
        "    for r in range(len(input_text)):\n",
        "        char = input_text[r]\n",
        "\n",
        "    #    check uppercase\n",
        "        if (char.isupper()):\n",
        "            out += chr((ord(char) - key-65) % 26 + 65)\n",
        "    #         check lowercase \n",
        "        else: \n",
        "            out += chr((ord(char) - key-97) % 26 + 97)\n",
        "\n",
        "    #return \n",
        "    return out\n",
        "\n",
        "text=input(\"Enter a text: \")\n",
        "key=int(input(\"Enter the key: \"))\n",
        "print(\"Encryption: \",encryption(text,key))\n",
        "print(\"Decryption: \",decryption(encryption(text,key),key))"
      ]
    }
  ]
}