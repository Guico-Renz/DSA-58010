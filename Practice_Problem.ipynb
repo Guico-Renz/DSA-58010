{
  "nbformat": 4,
  "nbformat_minor": 0,
  "metadata": {
    "colab": {
      "name": "Practice Problem.ipynb",
      "provenance": [],
      "authorship_tag": "ABX9TyPsJjBcPYPYwKr+prtyQRhS",
      "include_colab_link": true
    },
    "kernelspec": {
      "name": "python3",
      "display_name": "Python 3"
    },
    "language_info": {
      "name": "python"
    }
  },
  "cells": [
    {
      "cell_type": "markdown",
      "metadata": {
        "id": "view-in-github",
        "colab_type": "text"
      },
      "source": [
        "<a href=\"https://colab.research.google.com/github/Guico-Renz/DSA-58010/blob/main/Practice_Problem.ipynb\" target=\"_parent\"><img src=\"https://colab.research.google.com/assets/colab-badge.svg\" alt=\"Open In Colab\"/></a>"
      ]
    },
    {
      "cell_type": "code",
      "execution_count": 4,
      "metadata": {
        "colab": {
          "base_uri": "https://localhost:8080/"
        },
        "id": "8caGxdCZbEU6",
        "outputId": "8a458e8d-a906-4f2f-9004-f7837ab240e2"
      },
      "outputs": [
        {
          "output_type": "stream",
          "name": "stdout",
          "text": [
            "Enter the total count of numbers: 6\n",
            "Enter the values: 26\n",
            "Enter the values: 49\n",
            "Enter the values: 98\n",
            "Enter the values: 87\n",
            "Enter the values: 62\n",
            "Enter the values: 75\n",
            "The sum of all odd numbers in the list is:  186\n"
          ]
        }
      ],
      "source": [
        "#Practice problem\n",
        "digit = []\n",
        "sum = 0\n",
        "count = int(input(\"Enter the total count of numbers: \"))\n",
        "for r in range(1, count+1):\n",
        "  q = int(input(\"Enter the values: \"))\n",
        "  digit.append(q)\n",
        "\n",
        "for s in range(count):\n",
        "  if(digit[s]%2==0):\n",
        "    sum=sum+digit[s]\n",
        "\n",
        "print(\"The sum of all odd numbers in the list is: \",sum)"
      ]
    },
    {
      "cell_type": "markdown",
      "source": [
        "#ALGORITHM\n",
        "\n",
        "*   STEP 1 - START\n",
        "*   STEP 2 - Determine the range of numbers\n",
        "*   STEP 3 - Input the numbers\n",
        "*   STEP 4 - Append the numbers to list\n",
        "*   STEP 5 - Determine the even numbers using 'if statement'\n",
        "*   STEP 6 - Summation of even numbers\n",
        "*   STEP 7 - Print the total of even numbers\n",
        "*   STEP 8 - STOP\n",
        "\n",
        "\n"
      ],
      "metadata": {
        "id": "SxvIw9HnqwAA"
      }
    }
  ]
}