{
  "nbformat": 4,
  "nbformat_minor": 0,
  "metadata": {
    "colab": {
      "provenance": [],
      "authorship_tag": "ABX9TyPkkAFbKQf3Yom+oDqZMGPV",
      "include_colab_link": true
    },
    "kernelspec": {
      "name": "python3",
      "display_name": "Python 3"
    },
    "language_info": {
      "name": "python"
    }
  },
  "cells": [
    {
      "cell_type": "markdown",
      "metadata": {
        "id": "view-in-github",
        "colab_type": "text"
      },
      "source": [
        "<a href=\"https://colab.research.google.com/github/Guico-Renz/DSA-58010/blob/main/Activity3.ipynb\" target=\"_parent\"><img src=\"https://colab.research.google.com/assets/colab-badge.svg\" alt=\"Open In Colab\"/></a>"
      ]
    },
    {
      "cell_type": "markdown",
      "source": [
        "# Stack implementation in python"
      ],
      "metadata": {
        "id": "AU0dKlkDQgSm"
      }
    },
    {
      "cell_type": "markdown",
      "source": [
        "#Answer to 1 & 2\n",
        "\n",
        "\n",
        "---\n",
        "\n",
        "\n",
        "1) Upon typing the codes, what is the name of the abstract data type? How is it \n",
        "implemented?\n",
        "\n",
        "Answer:\n",
        "The name of the abstract data is \"Stack in Python.\" The implementation uses a list with the 'push function' to insert an element in the stack.\n",
        "\n",
        "\n",
        "---\n",
        "\n",
        "\n",
        "2) What is the output of the codes?\n",
        "\n",
        "Answer:\n",
        "The code output is the elements that are pushed to the stack.\n",
        "\n",
        "*   Pushed Element: 1\n",
        "*   Pushed Element: 2\n",
        "*   Pushed Element: 3\n",
        "*   Pushed Element: 4\n",
        "*   Pushed Element: 5\n",
        "*   The elements in the stack are:['1', '2', '3', '4', '5']"
      ],
      "metadata": {
        "id": "AphzWh2LWD5Q"
      }
    },
    {
      "cell_type": "code",
      "execution_count": 1,
      "metadata": {
        "colab": {
          "base_uri": "https://localhost:8080/"
        },
        "id": "oqCmznvMQe04",
        "outputId": "a90c604e-fbd0-41c7-ae7a-fb0f01327f7d"
      },
      "outputs": [
        {
          "output_type": "stream",
          "name": "stdout",
          "text": [
            "Pushed Element: 1\n",
            "Pushed Element: 2\n",
            "Pushed Element: 3\n",
            "Pushed Element: 4\n",
            "Pushed Element: 5\n",
            "The elements in the stack are:['1', '2', '3', '4', '5']\n"
          ]
        }
      ],
      "source": [
        "# Creating a stack\n",
        "\n",
        "def create_stack():\n",
        "\n",
        "    stack = []\n",
        "    return stack\n",
        "\n",
        "# Creating an empty stack\n",
        "\n",
        "def is_empty(stack):\n",
        "\n",
        "    return len(stack) == 0\n",
        "\n",
        "# Adding items into the stack\n",
        "\n",
        "def push(stack, item):\n",
        "\n",
        "    stack.append(item)\n",
        "    print(\"Pushed Element: \" + item)\n",
        "\n",
        "# Removing an element from the stack\n",
        "\n",
        "def pop(stack):\n",
        "\n",
        "    if (is_empty(stack)):\n",
        "        return \"The stack is empty\"\n",
        "    return stack.pop()\n",
        "\n",
        "stack = create_stack()\n",
        "\n",
        "push(stack, str(1))\n",
        "push(stack, str(2))\n",
        "push(stack, str(3))\n",
        "push(stack, str(4))\n",
        "push(stack, str(5))\n",
        "\n",
        "print(\"The elements in the stack are:\"+ str(stack))\n",
        "\n"
      ]
    },
    {
      "cell_type": "markdown",
      "source": [
        "#Answer to 3 & 4\n",
        "\n",
        "\n",
        "---\n",
        "\n",
        "3) If you want to type additional codes, what will be the statement to pop 3 elements from the top of the stack?\n",
        "\n",
        "Answer: I used the method of \"pop\" to pop the three elements and put an index inside the \"stack.pop()\" to remove the elements that I wanted to pop. \n",
        "---\n",
        "\n",
        "\n",
        "4) If you will revise the codes, what will be the statement to determine the length of the stack? (Note: You may add additional methods to count the no. of elements in the stack)\n",
        "\n",
        "Answer: To determine the length of the stack, I used the built-in function \"len\" to count the number of remaining elements in the stack after implementing the pop method.\n",
        "---\n",
        "\n"
      ],
      "metadata": {
        "id": "t8cfrjokZzLk"
      }
    },
    {
      "cell_type": "code",
      "source": [
        "# Stack implementation in python\n",
        "# Creating a stack\n",
        "def create_stack():\n",
        "    stack = []\n",
        "    return stack\n",
        "\n",
        "# Creating an empty stack\n",
        "def is_empty(stack):\n",
        "    return len(stack) == 0\n",
        "\n",
        "# Adding items into the stack\n",
        "def push(stack, item):\n",
        "    stack.append(item)\n",
        "    print(\"Pushed Element: \" + item)\n",
        "\n",
        "# Removing an element from the stack\n",
        "def pop(stack):\n",
        "    if (is_empty(stack)):\n",
        "        return \"The stack is empty\"\n",
        "    return stack.pop()\n",
        "\n",
        "#To determine the length of the stack\n",
        "def size():\n",
        "    return len(stack)\n",
        "\n",
        "stack = create_stack()\n",
        "push(stack, str(1))\n",
        "push(stack, str(2))\n",
        "push(stack, str(3))\n",
        "push(stack, str(4))\n",
        "push(stack, str(5))\n",
        "\n",
        "#0 is the first element in the stack.\n",
        "#If I have to remove the next element, I will still use 0 because it will be the new first element after implementing the first pop method\n",
        "stack.pop(0)\n",
        "stack.pop(0)\n",
        "stack.pop(0)\n",
        "\n",
        "print(\"The elements in the stack are:\"+ str(stack))\n",
        "print(\"The number of elements in the stack is: \", size())"
      ],
      "metadata": {
        "colab": {
          "base_uri": "https://localhost:8080/"
        },
        "id": "Gmy8S9CZU5S_",
        "outputId": "efc4c398-e67a-490a-dbe7-ead9e4ccbaa6"
      },
      "execution_count": 9,
      "outputs": [
        {
          "output_type": "stream",
          "name": "stdout",
          "text": [
            "Pushed Element: 1\n",
            "Pushed Element: 2\n",
            "Pushed Element: 3\n",
            "Pushed Element: 4\n",
            "Pushed Element: 5\n",
            "The elements in the stack are:['4', '5']\n",
            "The number of elements in the stack is:  2\n"
          ]
        }
      ]
    }
  ]
}