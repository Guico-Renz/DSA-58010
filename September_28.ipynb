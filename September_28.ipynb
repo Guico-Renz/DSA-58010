{
  "nbformat": 4,
  "nbformat_minor": 0,
  "metadata": {
    "colab": {
      "provenance": [],
      "authorship_tag": "ABX9TyNIhY7WZJZav/6ETsmVmwzZ",
      "include_colab_link": true
    },
    "kernelspec": {
      "name": "python3",
      "display_name": "Python 3"
    },
    "language_info": {
      "name": "python"
    }
  },
  "cells": [
    {
      "cell_type": "markdown",
      "metadata": {
        "id": "view-in-github",
        "colab_type": "text"
      },
      "source": [
        "<a href=\"https://colab.research.google.com/github/Guico-Renz/DSA-58010/blob/main/September_28.ipynb\" target=\"_parent\"><img src=\"https://colab.research.google.com/assets/colab-badge.svg\" alt=\"Open In Colab\"/></a>"
      ]
    },
    {
      "cell_type": "code",
      "execution_count": null,
      "metadata": {
        "colab": {
          "base_uri": "https://localhost:8080/"
        },
        "id": "AMNW4H7HE7Jz",
        "outputId": "0581325d-8b9b-4dc8-f76f-71e92ffd9c18"
      },
      "outputs": [
        {
          "output_type": "stream",
          "name": "stdout",
          "text": [
            "The list of elements in the stack are:\n",
            "['Mon', 'Tue', 'Wed', 'Thu']\n",
            "\n",
            "Popped elements are:\n",
            "Thu\n",
            "Wed\n",
            "\n",
            "The remaining elements in the stack are:\n",
            "['Mon', 'Tue']\n",
            "\n",
            "The length of the elements inside the queue:\n",
            "2\n"
          ]
        }
      ],
      "source": [
        "class Stack:\n",
        "   def __init__(self):\n",
        "      self.stack = []\n",
        "\n",
        "   def add(self, dataval):\n",
        "# Use list append method to add element\n",
        "      if dataval not in self.stack:\n",
        "         self.stack.append(dataval)\n",
        "         return True\n",
        "      else:\n",
        "         return False\n",
        "\n",
        "# Use list pop method to remove element\n",
        "   def remove(self):\n",
        "      if len(self.stack) <= 0:\n",
        "         return (\"No element in the Stack\")\n",
        "      else:\n",
        "         return self.stack.pop()\n",
        "\n",
        "AStack = []\n",
        "#to APPEND/push all the elements in the stack\n",
        "AStack.append('Mon')\n",
        "AStack.append('Tue')\n",
        "AStack.append('Wed')\n",
        "AStack.append('Thu')\n",
        "print(\"The list of elements in the stack are:\")\n",
        "print(AStack)\n",
        "#to remove each element\n",
        "print(\"\\nPopped elements are:\")\n",
        "print(AStack.pop())\n",
        "print(AStack.pop())\n",
        "print(\"\\nThe remaining elements in the stack are:\")\n",
        "print(AStack)\n",
        "a = len(AStack)\n",
        "print(\"\\nThe length of the elements inside the queue:\")\n",
        "print(a)\n",
        "#AStack = Stack()\n",
        "#AStack.add(\"Mon\")\n",
        "#AStack.add(\"Tue\")\n",
        "#AStack.add(\"Wed\")\n",
        "#AStack.add(\"Thu\")\n",
        "#print(AStack.remove())\n",
        "#print(AStack.remove())\n",
        "#print(AStack)"
      ]
    },
    {
      "cell_type": "code",
      "source": [
        "#Python program to demo stack using Linked List\n",
        "\n",
        "class Node:\n",
        "  def __init__(self,data):\n",
        "    self.data = data\n",
        "    self.next = None #initialize as null\n",
        "\n",
        "class LinkedList:\n",
        "  def __init__(self):\n",
        "    self.head = None #Initialize head as null\n",
        "  def printList (self):\n",
        "    temp = self.head\n",
        "    while(temp != None):\n",
        "      print(temp.data)\n",
        "      temp = temp.next\n",
        "  \n",
        "#  def is_empty(self):\n",
        "#    if self.head == None:\n",
        "#      return True\n",
        "#    else:\n",
        "#      return False\n",
        "#  def pop(self):\n",
        "#    if self.is_empty():\n",
        "#      return None\n",
        "#    else:\n",
        "#      poppednode = fourth\n",
        "#     return poppednode.data\n",
        "\n",
        "  def __init__(self):\n",
        "    self.stack = []\n",
        "    \n",
        "  def remove(self):\n",
        "   if len(self.stack) <= 0:\n",
        "       return (\"No element in the stack\")\n",
        "   else:\n",
        "       return self.stack.pop()\n",
        "\n",
        "list = LinkedList()\n",
        "list.head = Node(\"Mon\")\n",
        "second = Node(\"Tue\")\n",
        "third = Node(\"Wed\")\n",
        "fourth = Node(\"Thu\")\n",
        "\n",
        "list.head.next = second\n",
        "second.next = third\n",
        "third.next = fourth\n",
        "\n",
        "list.printList()\n",
        "list.remove()\n",
        "#list.pop()"
      ],
      "metadata": {
        "colab": {
          "base_uri": "https://localhost:8080/",
          "height": 105
        },
        "id": "xH2lWd3yNCEn",
        "outputId": "9f82689e-5b60-4a61-f00e-d400e92d9500"
      },
      "execution_count": null,
      "outputs": [
        {
          "output_type": "stream",
          "name": "stdout",
          "text": [
            "Mon\n",
            "Tue\n",
            "Wed\n",
            "Thu\n"
          ]
        },
        {
          "output_type": "execute_result",
          "data": {
            "text/plain": [
              "'No element in the stack'"
            ],
            "application/vnd.google.colaboratory.intrinsic+json": {
              "type": "string"
            }
          },
          "metadata": {},
          "execution_count": 86
        }
      ]
    },
    {
      "cell_type": "code",
      "source": [
        "#Python program to demo stack using Linked List\n",
        "\n",
        "class Stack:\n",
        "  def __init__(self):\n",
        "    self.stack = []\n",
        "class Node:\n",
        "  def __init__(self,data):\n",
        "    self.data = data\n",
        "    self.next = None   #initialize as null\n",
        "class LinkedList:\n",
        "  def __init__(self):\n",
        "    self.head = None  #initialize head as null\n",
        "  def printList(self):\n",
        "    temp = self.head\n",
        "    while(temp):\n",
        "      print(temp.data)\n",
        "      temp = temp.next\n",
        "  def is_empty(self):\n",
        "    if self.head == None:\n",
        "      return True\n",
        "    else:\n",
        "      return False\n",
        "\n",
        "  def pop(self):\n",
        "    if self.is_empty():\n",
        "      return None\n",
        "    else:\n",
        "      poppednode = fourth\n",
        "      return poppednode.data\n",
        "\n",
        "llist = LinkedList()\n",
        "llist.head = Node('Mon')\n",
        "second = Node(\"Tue\")\n",
        "third = Node('Wed')\n",
        "fourth = Node(\"Thu\")\n",
        "\n",
        "llist.head.next = second\n",
        "second.next = third\n",
        "third.next = fourth\n",
        "\n",
        "llist.printList()\n",
        "llist.pop()\n"
      ],
      "metadata": {
        "id": "Ni1cDjYxZlge"
      },
      "execution_count": null,
      "outputs": []
    }
  ]
}