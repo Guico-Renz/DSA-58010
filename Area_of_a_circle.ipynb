{
  "nbformat": 4,
  "nbformat_minor": 0,
  "metadata": {
    "colab": {
      "name": "Area of a circle.ipynb",
      "provenance": [],
      "authorship_tag": "ABX9TyMfBQu+EjWKOtSWkuRRNVGq",
      "include_colab_link": true
    },
    "kernelspec": {
      "name": "python3",
      "display_name": "Python 3"
    },
    "language_info": {
      "name": "python"
    }
  },
  "cells": [
    {
      "cell_type": "markdown",
      "metadata": {
        "id": "view-in-github",
        "colab_type": "text"
      },
      "source": [
        "<a href=\"https://colab.research.google.com/github/Guico-Renz/DSA-58010/blob/main/Area_of_a_circle.ipynb\" target=\"_parent\"><img src=\"https://colab.research.google.com/assets/colab-badge.svg\" alt=\"Open In Colab\"/></a>"
      ]
    },
    {
      "cell_type": "code",
      "execution_count": 19,
      "metadata": {
        "colab": {
          "base_uri": "https://localhost:8080/"
        },
        "id": "D-WuYtzKTJZv",
        "outputId": "c457f059-c7f2-4620-d653-12e6dee8ec1c"
      },
      "outputs": [
        {
          "output_type": "stream",
          "name": "stdout",
          "text": [
            "Enter the diameter of a circle: 5\n",
            "Area of a circle = 19.634999999999998\n",
            "Enter the radius of a circle: 5\n",
            "Area of a circle = 78.53999999999999\n"
          ]
        }
      ],
      "source": [
        "#Area of a Circle\n",
        "d = float(input(\"Enter the diameter of a circle: \"))\n",
        "pi = 3.1416\n",
        "area = pi*(d**2)/4;\n",
        "print (\"Area of a circle = \" + str(area))\n",
        "\n",
        "r = float(input(\"Enter the radius of a circle: \"))\n",
        "pi = 3.1416\n",
        "area = pi*(r**2);\n",
        "print (\"Area of a circle = \" + str(area))"
      ]
    }
  ]
}