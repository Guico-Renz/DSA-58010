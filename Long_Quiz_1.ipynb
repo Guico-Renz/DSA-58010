{
  "nbformat": 4,
  "nbformat_minor": 0,
  "metadata": {
    "colab": {
      "provenance": [],
      "authorship_tag": "ABX9TyNuvAO8FKR3tqgQ1IHt9OIL",
      "include_colab_link": true
    },
    "kernelspec": {
      "name": "python3",
      "display_name": "Python 3"
    },
    "language_info": {
      "name": "python"
    }
  },
  "cells": [
    {
      "cell_type": "markdown",
      "metadata": {
        "id": "view-in-github",
        "colab_type": "text"
      },
      "source": [
        "<a href=\"https://colab.research.google.com/github/Guico-Renz/DSA-58010/blob/main/Long_Quiz_1.ipynb\" target=\"_parent\"><img src=\"https://colab.research.google.com/assets/colab-badge.svg\" alt=\"Open In Colab\"/></a>"
      ]
    },
    {
      "cell_type": "markdown",
      "source": [
        "#Long Quiz\n",
        "create a python program that appends each character of your full name and display in reverse order"
      ],
      "metadata": {
        "id": "Fs6x5wlRLJAf"
      }
    },
    {
      "cell_type": "code",
      "execution_count": 33,
      "metadata": {
        "colab": {
          "base_uri": "https://localhost:8080/"
        },
        "id": "W8WnODoTJffT",
        "outputId": "be561f32-ae35-4e88-ea79-9932b95d59c1"
      },
      "outputs": [
        {
          "output_type": "stream",
          "name": "stdout",
          "text": [
            "Enter Full Name in each character:R\n",
            "Enter Full Name in each character:e\n",
            "Enter Full Name in each character:n\n",
            "Enter Full Name in each character:z\n",
            "Enter Full Name in each character:J\n",
            "Enter Full Name in each character:u\n",
            "Enter Full Name in each character:l\n",
            "Enter Full Name in each character:i\n",
            "Enter Full Name in each character:u\n",
            "Enter Full Name in each character:s\n",
            "Enter Full Name in each character:G\n",
            "Enter Full Name in each character:u\n",
            "Enter Full Name in each character:i\n",
            "Enter Full Name in each character:c\n",
            "Enter Full Name in each character:o\n",
            "Full name: ['R', 'e', 'n', 'z', 'J', 'u', 'l', 'i', 'u', 's', 'G', 'u', 'i', 'c', 'o']\n",
            "Reversed Full Name: ['o', 'c', 'i', 'u', 'G', 's', 'u', 'i', 'l', 'u', 'J', 'z', 'n', 'e', 'R']\n"
          ]
        }
      ],
      "source": [
        "name = []\n",
        "a=input('Enter Full Name in each character:')\n",
        "name.append(a)\n",
        "b=input('Enter Full Name in each character:')\n",
        "name.append(b)\n",
        "c=input('Enter Full Name in each character:')\n",
        "name.append(c)\n",
        "d=input('Enter Full Name in each character:')\n",
        "name.append(d)\n",
        "e=input('Enter Full Name in each character:')\n",
        "name.append(e)\n",
        "f=input('Enter Full Name in each character:')\n",
        "name.append(f)\n",
        "g=input('Enter Full Name in each character:')\n",
        "name.append(g)\n",
        "h=input('Enter Full Name in each character:')\n",
        "name.append(h)\n",
        "i=input('Enter Full Name in each character:')\n",
        "name.append(i)\n",
        "j=input('Enter Full Name in each character:')\n",
        "name.append(j)\n",
        "k=input('Enter Full Name in each character:')\n",
        "name.append(k)\n",
        "l=input('Enter Full Name in each character:')\n",
        "name.append(l)\n",
        "m=input('Enter Full Name in each character:')\n",
        "name.append(m)\n",
        "n=input('Enter Full Name in each character:')\n",
        "name.append(n)\n",
        "o=input('Enter Full Name in each character:')\n",
        "name.append(o)\n",
        "print('Full name:', name)\n",
        "name.reverse()\n",
        "print('Reversed Full Name:', name)"
      ]
    }
  ]
}