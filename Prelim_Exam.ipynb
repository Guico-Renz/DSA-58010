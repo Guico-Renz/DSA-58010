{
  "nbformat": 4,
  "nbformat_minor": 0,
  "metadata": {
    "colab": {
      "provenance": [],
      "authorship_tag": "ABX9TyPwSvPx6dXfRjRth0bFpPUI",
      "include_colab_link": true
    },
    "kernelspec": {
      "name": "python3",
      "display_name": "Python 3"
    },
    "language_info": {
      "name": "python"
    }
  },
  "cells": [
    {
      "cell_type": "markdown",
      "metadata": {
        "id": "view-in-github",
        "colab_type": "text"
      },
      "source": [
        "<a href=\"https://colab.research.google.com/github/Guico-Renz/DSA-58010/blob/main/Prelim_Exam.ipynb\" target=\"_parent\"><img src=\"https://colab.research.google.com/assets/colab-badge.svg\" alt=\"Open In Colab\"/></a>"
      ]
    },
    {
      "cell_type": "markdown",
      "source": [
        "#Create a python program that creates the array list *A=[1,2,3,4,5,6,7,8,9,10]* and counts the even numbers"
      ],
      "metadata": {
        "id": "8qqvhHCzW2ch"
      }
    },
    {
      "cell_type": "code",
      "execution_count": 33,
      "metadata": {
        "colab": {
          "base_uri": "https://localhost:8080/"
        },
        "id": "CGOQPzZWRhpF",
        "outputId": "5447963c-e65c-4318-a73c-9b2afd2a45c8"
      },
      "outputs": [
        {
          "output_type": "stream",
          "name": "stdout",
          "text": [
            "A= [1, 2, 3, 4, 5, 6, 7, 8, 9, 10]\n",
            "The even numbers: [2, 4, 6, 8, 10]\n",
            "The number of even numbers: 5\n"
          ]
        }
      ],
      "source": [
        "A = []\n",
        "A.append(1) #appending all the numbers to the array(A)\n",
        "A.append(2)\n",
        "A.append(3)\n",
        "A.append(4)\n",
        "A.append(5)\n",
        "A.append(6)\n",
        "A.append(7)\n",
        "A.append(8)\n",
        "A.append(9)\n",
        "A.append(10)\n",
        "\n",
        "print(\"A=\",A)\n",
        "\n",
        "A.pop(0) #removing the odd numbers using pop()\n",
        "A.pop(1)\n",
        "A.pop(2)\n",
        "A.pop(3)\n",
        "A.pop(4)\n",
        "\n",
        "b=len(A) #using len to count the elements inside the array\n",
        "\n",
        "print(\"The even numbers:\",A) # to show that the odd numbers are not included\n",
        "print(\"The number of even numbers:\",b)\n"
      ]
    }
  ]
}